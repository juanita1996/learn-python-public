{
 "cells": [
  {
   "cell_type": "markdown",
   "id": "d9861e12",
   "metadata": {},
   "source": [
    "### Arithmetric operators\n"
   ]
  },
  {
   "cell_type": "markdown",
   "id": "49b2c70f",
   "metadata": {},
   "source": [
    "### Addition"
   ]
  },
  {
   "cell_type": "code",
   "execution_count": 1,
   "id": "6d430182",
   "metadata": {},
   "outputs": [
    {
     "name": "stdout",
     "output_type": "stream",
     "text": [
      "8\n"
     ]
    }
   ],
   "source": [
    "print(3 + 5)"
   ]
  },
  {
   "cell_type": "markdown",
   "id": "234b16c2",
   "metadata": {},
   "source": [
    "### Subtraction"
   ]
  },
  {
   "cell_type": "code",
   "execution_count": 3,
   "id": "4c75e535",
   "metadata": {},
   "outputs": [
    {
     "name": "stdout",
     "output_type": "stream",
     "text": [
      "5\n"
     ]
    }
   ],
   "source": [
    "print(10 - 5)"
   ]
  },
  {
   "cell_type": "markdown",
   "id": "df73e69b",
   "metadata": {},
   "source": [
    "### Multiplication"
   ]
  },
  {
   "cell_type": "code",
   "execution_count": 4,
   "id": "4e734e98",
   "metadata": {},
   "outputs": [
    {
     "name": "stdout",
     "output_type": "stream",
     "text": [
      "100\n"
     ]
    }
   ],
   "source": [
    "print(20 * 5)"
   ]
  },
  {
   "cell_type": "markdown",
   "id": "5b7140c2",
   "metadata": {},
   "source": [
    "### Division"
   ]
  },
  {
   "cell_type": "code",
   "execution_count": 8,
   "id": "222ec7ee",
   "metadata": {},
   "outputs": [
    {
     "name": "stdout",
     "output_type": "stream",
     "text": [
      "10.0\n"
     ]
    }
   ],
   "source": [
    "print(60/6)"
   ]
  },
  {
   "cell_type": "markdown",
   "id": "4b98c37b",
   "metadata": {},
   "source": [
    "### Exponentiation"
   ]
  },
  {
   "cell_type": "code",
   "execution_count": 9,
   "id": "cb215943",
   "metadata": {},
   "outputs": [
    {
     "name": "stdout",
     "output_type": "stream",
     "text": [
      "9\n"
     ]
    }
   ],
   "source": [
    "print(3 ** 2)"
   ]
  },
  {
   "cell_type": "markdown",
   "id": "188848d6",
   "metadata": {},
   "source": [
    "### Modulus"
   ]
  },
  {
   "cell_type": "code",
   "execution_count": 10,
   "id": "32c86b07",
   "metadata": {},
   "outputs": [
    {
     "name": "stdout",
     "output_type": "stream",
     "text": [
      "1\n"
     ]
    }
   ],
   "source": [
    "print(9 % 2)"
   ]
  },
  {
   "cell_type": "markdown",
   "id": "da08ab79",
   "metadata": {},
   "source": [
    "### Round Division"
   ]
  },
  {
   "cell_type": "code",
   "execution_count": 11,
   "id": "87296bf8",
   "metadata": {},
   "outputs": [
    {
     "name": "stdout",
     "output_type": "stream",
     "text": [
      "4\n"
     ]
    }
   ],
   "source": [
    "print(9// 2)"
   ]
  },
  {
   "cell_type": "markdown",
   "id": "ca5bfad6",
   "metadata": {},
   "source": [
    "My electricity bills for the last three months have been $23, $32 and $64. What is the average monthly electricity bill over the three month period? Write an expression to calculate the mean, and use print() to view the result."
   ]
  },
  {
   "cell_type": "code",
   "execution_count": 14,
   "id": "cd624ae7",
   "metadata": {},
   "outputs": [
    {
     "name": "stdout",
     "output_type": "stream",
     "text": [
      "39.666666666666664\n"
     ]
    }
   ],
   "source": [
    "print((23 + 32 + 64)/3)"
   ]
  },
  {
   "cell_type": "markdown",
   "id": "06b29c1d",
   "metadata": {},
   "source": [
    "In this quiz you're going to do some calculations for a tiler. Two parts of a floor need tiling. One part is 9 tiles wide by 7 tiles long, the other is 5 tiles wide by 7 tiles long. Tiles come in packages of 6.\n",
    "\n",
    "How many tiles are needed?"
   ]
  },
  {
   "cell_type": "code",
   "execution_count": 15,
   "id": "5144e214",
   "metadata": {},
   "outputs": [
    {
     "name": "stdout",
     "output_type": "stream",
     "text": [
      "98\n"
     ]
    }
   ],
   "source": [
    "print((9*7)+(5*7))"
   ]
  },
  {
   "cell_type": "markdown",
   "id": "ea672ba1",
   "metadata": {},
   "source": [
    "You buy 17 packages of tiles containing 6 tiles each. How many tiles will be left over?"
   ]
  },
  {
   "cell_type": "code",
   "execution_count": 16,
   "id": "4cb33ac8",
   "metadata": {},
   "outputs": [
    {
     "name": "stdout",
     "output_type": "stream",
     "text": [
      "4\n"
     ]
    }
   ],
   "source": [
    "print((17*6)-((9*7)+(5*7)))"
   ]
  },
  {
   "cell_type": "markdown",
   "id": "533f65fd",
   "metadata": {},
   "source": [
    "### Variables and Assignment Operators"
   ]
  },
  {
   "cell_type": "code",
   "execution_count": 17,
   "id": "aebd5be3",
   "metadata": {},
   "outputs": [
    {
     "name": "stdout",
     "output_type": "stream",
     "text": [
      "10\n"
     ]
    }
   ],
   "source": [
    " x = 10\n",
    " y = x \n",
    "print (y)"
   ]
  },
  {
   "cell_type": "code",
   "execution_count": 18,
   "id": "f986c621",
   "metadata": {},
   "outputs": [
    {
     "name": "stdout",
     "output_type": "stream",
     "text": [
      "4\n"
     ]
    }
   ],
   "source": [
    "x,y,z = 1,4,5\n",
    "print (y)"
   ]
  },
  {
   "cell_type": "code",
   "execution_count": 19,
   "id": "e5ba51de",
   "metadata": {},
   "outputs": [
    {
     "name": "stdout",
     "output_type": "stream",
     "text": [
      "78128\n"
     ]
    }
   ],
   "source": [
    "mv_population = 74728\n",
    "mv_population = 74728 + 4000 - 600\n",
    "print(mv_population)"
   ]
  },
  {
   "cell_type": "markdown",
   "id": "4b6c1f66",
   "metadata": {},
   "source": [
    "Quiz: Changing Variable Values"
   ]
  },
  {
   "cell_type": "code",
   "execution_count": 20,
   "id": "8a0f170a",
   "metadata": {},
   "outputs": [
    {
     "name": "stdout",
     "output_type": "stream",
     "text": [
      "3.0\n"
     ]
    }
   ],
   "source": [
    "carrots = 24\n",
    "rabbits = 8\n",
    "crs_per_rab = carrots/rabbits\n",
    "print(crs_per_rab)"
   ]
  },
  {
   "cell_type": "code",
   "execution_count": 21,
   "id": "6274bbe3",
   "metadata": {},
   "outputs": [
    {
     "name": "stdout",
     "output_type": "stream",
     "text": [
      "3.0\n"
     ]
    }
   ],
   "source": [
    "rabbits = 12\n",
    "print(crs_per_rab)"
   ]
  },
  {
   "cell_type": "code",
   "execution_count": 22,
   "id": "9a9b1a8d",
   "metadata": {},
   "outputs": [
    {
     "name": "stdout",
     "output_type": "stream",
     "text": [
      "447627500.0\n"
     ]
    }
   ],
   "source": [
    "# The current volume of a water reservoir (in cubic metres)\n",
    "reservoir_volume = 4.445e8\n",
    "# The amount of rainfall from a storm (in cubic metres)\n",
    "rainfall = 5e6\n",
    "\n",
    "# decrease the rainfall variable by 10% to account for runoff\n",
    "rainfall = rainfall*0.9\n",
    "\n",
    "# add the rainfall variable to the reservoir_volume variable\n",
    "reservoir_volume =reservoir_volume + rainfall\n",
    "\n",
    "# increase reservoir_volume by 5% to account for stormwater that flows\n",
    "\n",
    "reservoir_volume =reservoir_volume*1.05\n",
    "# into the reservoir in the days following the storm\n",
    "\n",
    "# decrease reservoir_volume by 5% to account for evaporation\n",
    "reservoir_volume =reservoir_volume*.95\n",
    "\n",
    "# subtract 2.5e5 cubic metres from reservoir_volume to account for water\n",
    "# that's piped to arid regions.\n",
    "\n",
    "reservoir_volume =reservoir_volume - 2.5e5\n",
    "# print the new value of the reservoir_volume variable\n",
    "print(reservoir_volume)"
   ]
  },
  {
   "cell_type": "markdown",
   "id": "728ef97c",
   "metadata": {},
   "source": [
    "### Integers & Floats"
   ]
  },
  {
   "cell_type": "code",
   "execution_count": 23,
   "id": "ca0c0f5b",
   "metadata": {},
   "outputs": [
    {
     "name": "stdout",
     "output_type": "stream",
     "text": [
      "<class 'int'>\n",
      "<class 'float'>\n"
     ]
    }
   ],
   "source": [
    "x = int(4.7)   # x is now an integer \n",
    "y = float(4)   # y is now a float\n",
    "\n",
    "print(type(x))\n",
    "print(type(y))\n"
   ]
  },
  {
   "cell_type": "markdown",
   "id": "d9ece5d2",
   "metadata": {},
   "source": [
    "### Data types"
   ]
  },
  {
   "cell_type": "markdown",
   "id": "cfb4538f",
   "metadata": {},
   "source": [
    "### Lists and Membership Operators"
   ]
  },
  {
   "cell_type": "code",
   "execution_count": 24,
   "id": "0698f0a8",
   "metadata": {},
   "outputs": [],
   "source": [
    "months = ['January', 'February', 'March', 'April', 'May', 'June', 'July', 'August', 'September', 'October', 'November', 'December']"
   ]
  },
  {
   "cell_type": "code",
   "execution_count": 25,
   "id": "7bfb5682",
   "metadata": {},
   "outputs": [
    {
     "name": "stdout",
     "output_type": "stream",
     "text": [
      "January\n"
     ]
    }
   ],
   "source": [
    "print(months[0]) "
   ]
  },
  {
   "cell_type": "code",
   "execution_count": 27,
   "id": "559c05ca",
   "metadata": {},
   "outputs": [
    {
     "name": "stdout",
     "output_type": "stream",
     "text": [
      "December\n"
     ]
    }
   ],
   "source": [
    "print(months[11]) "
   ]
  },
  {
   "cell_type": "code",
   "execution_count": 29,
   "id": "dbbef92d",
   "metadata": {},
   "outputs": [
    {
     "name": "stdout",
     "output_type": "stream",
     "text": [
      "['July', 'August', 'September']\n"
     ]
    }
   ],
   "source": [
    "q3 = months[6:9] #slicing the 3rd quarter of the year\n",
    "print (q3)"
   ]
  },
  {
   "cell_type": "code",
   "execution_count": 30,
   "id": "a7787132",
   "metadata": {},
   "outputs": [],
   "source": [
    "q2 = months[6:]"
   ]
  },
  {
   "cell_type": "code",
   "execution_count": 31,
   "id": "78afb1fe",
   "metadata": {},
   "outputs": [
    {
     "name": "stdout",
     "output_type": "stream",
     "text": [
      "['July', 'August', 'September', 'October', 'November', 'December']\n"
     ]
    }
   ],
   "source": [
    "print (q2)"
   ]
  },
  {
   "cell_type": "code",
   "execution_count": 32,
   "id": "c4496e24",
   "metadata": {},
   "outputs": [
    {
     "name": "stdout",
     "output_type": "stream",
     "text": [
      "12\n"
     ]
    }
   ],
   "source": [
    "print(len(months)) "
   ]
  },
  {
   "cell_type": "markdown",
   "id": "ab3616f4",
   "metadata": {},
   "source": [
    "### Membership operators - in and not in"
   ]
  },
  {
   "cell_type": "code",
   "execution_count": 36,
   "id": "dbc80b3f",
   "metadata": {},
   "outputs": [
    {
     "name": "stdout",
     "output_type": "stream",
     "text": [
      "True False\n"
     ]
    }
   ],
   "source": [
    "greeting = \"Hello there\"\n",
    "print('her' in greeting, 'her' not in greeting)"
   ]
  },
  {
   "cell_type": "markdown",
   "id": "7ef18744",
   "metadata": {},
   "source": [
    "### Mutability and Order"
   ]
  },
  {
   "cell_type": "code",
   "execution_count": 37,
   "id": "22a25b21",
   "metadata": {},
   "outputs": [
    {
     "name": "stdout",
     "output_type": "stream",
     "text": [
      "['one', 2, 3, 4, 5]\n"
     ]
    }
   ],
   "source": [
    "my_lst = [1, 2, 3, 4, 5]\n",
    "my_lst[0] = 'one'\n",
    "print(my_lst) I #Lists are mutable but strings are not"
   ]
  },
  {
   "cell_type": "code",
   "execution_count": 1,
   "id": "e403c0e3",
   "metadata": {},
   "outputs": [
    {
     "name": "stdout",
     "output_type": "stream",
     "text": [
      "García-O'Kelly\n"
     ]
    }
   ],
   "source": [
    "name = \"-\".join([\"García\", \"O'Kelly\"]) # List methods -join\n",
    "print(name)"
   ]
  },
  {
   "cell_type": "code",
   "execution_count": 2,
   "id": "cd90193d",
   "metadata": {},
   "outputs": [
    {
     "name": "stdout",
     "output_type": "stream",
     "text": [
      "fore\n",
      "aft\n",
      "starboard\n",
      "port\n"
     ]
    }
   ],
   "source": [
    "new_str = \"\\n\".join([\"fore\", \"aft\", \"starboard\", \"port\"]) #add new line\n",
    "print(new_str)"
   ]
  },
  {
   "cell_type": "code",
   "execution_count": 3,
   "id": "764bd52f",
   "metadata": {},
   "outputs": [
    {
     "name": "stdout",
     "output_type": "stream",
     "text": [
      "['a', 'b', 'c', 'd', 'z']\n"
     ]
    }
   ],
   "source": [
    "letters = ['a', 'b', 'c', 'd'] # List methods - append\n",
    "letters.append('z')\n",
    "print(letters)"
   ]
  },
  {
   "cell_type": "markdown",
   "id": "761e44b5",
   "metadata": {},
   "source": [
    "### Tuples - Used to store related pieces of information - Always related like latitude and longitude"
   ]
  },
  {
   "cell_type": "markdown",
   "id": "224e0587",
   "metadata": {},
   "source": [
    "### Tuples are like Lists but they are immutable"
   ]
  },
  {
   "cell_type": "code",
   "execution_count": 4,
   "id": "e2424481",
   "metadata": {},
   "outputs": [
    {
     "name": "stdout",
     "output_type": "stream",
     "text": [
      "<class 'tuple'>\n"
     ]
    }
   ],
   "source": [
    "Location = (13.4125, 103.866667)\n",
    "print(type(Location))"
   ]
  },
  {
   "cell_type": "code",
   "execution_count": 5,
   "id": "4d7192d9",
   "metadata": {},
   "outputs": [
    {
     "name": "stdout",
     "output_type": "stream",
     "text": [
      "Latitude: 13.4125\n",
      "Longitude: 103.866667\n"
     ]
    }
   ],
   "source": [
    "location2 = (13.4125, 103.866667)\n",
    "print(\"Latitude:\", location2[0])\n",
    "print(\"Longitude:\", location2[1])"
   ]
  },
  {
   "cell_type": "code",
   "execution_count": 6,
   "id": "2ad9a120",
   "metadata": {},
   "outputs": [
    {
     "name": "stdout",
     "output_type": "stream",
     "text": [
      "The dimensions are 52 x 40 x 100\n"
     ]
    }
   ],
   "source": [
    "dimensions = 52, 40, 100\n",
    "length, width, height = dimensions\n",
    "print(\"The dimensions are {} x {} x {}\".format(length, width, height))"
   ]
  },
  {
   "cell_type": "markdown",
   "id": "517e3ced",
   "metadata": {},
   "source": [
    "### Sets"
   ]
  },
  {
   "cell_type": "markdown",
   "id": "46c79d1a",
   "metadata": {},
   "source": [
    "### A set is a data type for mutable unordered collections of unique elements. Sets comes with no particular order - Set can be created from a list and duplicates removed."
   ]
  },
  {
   "cell_type": "markdown",
   "id": "27148954",
   "metadata": {},
   "source": [
    "### Sets used add method while list uses append method --- country_set.add(\"\"), pop method"
   ]
  },
  {
   "cell_type": "code",
   "execution_count": 7,
   "id": "283a99b4",
   "metadata": {},
   "outputs": [
    {
     "name": "stdout",
     "output_type": "stream",
     "text": [
      "{1, 2, 3, 6}\n"
     ]
    }
   ],
   "source": [
    "numbers = [1, 2, 6, 3, 1, 1, 6]\n",
    "unique_nums = set(numbers)\n",
    "print(unique_nums)"
   ]
  },
  {
   "cell_type": "markdown",
   "id": "6ca4bb6e",
   "metadata": {},
   "source": [
    "### Dictionaries and Identity Operators"
   ]
  },
  {
   "cell_type": "markdown",
   "id": "15528c9d",
   "metadata": {},
   "source": [
    "### A dictionary is a mutable data type that stores mappings of unique keys to values. Has get method, is_null method for checking if null, not_null method to check for the opposite"
   ]
  },
  {
   "cell_type": "code",
   "execution_count": 8,
   "id": "34804e0b",
   "metadata": {},
   "outputs": [],
   "source": [
    "elements = {\"hydrogen\": 1, \"helium\": 2, \"carbon\": 6}"
   ]
  },
  {
   "cell_type": "code",
   "execution_count": 9,
   "id": "f407c367",
   "metadata": {},
   "outputs": [
    {
     "name": "stdout",
     "output_type": "stream",
     "text": [
      "2\n"
     ]
    }
   ],
   "source": [
    "print(elements[\"helium\"]) "
   ]
  },
  {
   "cell_type": "code",
   "execution_count": 10,
   "id": "093accc9",
   "metadata": {},
   "outputs": [],
   "source": [
    "elements[\"lithium\"] = 3"
   ]
  },
  {
   "cell_type": "code",
   "execution_count": 11,
   "id": "55ab97d8",
   "metadata": {},
   "outputs": [
    {
     "name": "stdout",
     "output_type": "stream",
     "text": [
      "{'hydrogen': 1, 'helium': 2, 'carbon': 6, 'lithium': 3}\n"
     ]
    }
   ],
   "source": [
    "print(elements)"
   ]
  },
  {
   "cell_type": "code",
   "execution_count": 12,
   "id": "d849e961",
   "metadata": {},
   "outputs": [
    {
     "name": "stdout",
     "output_type": "stream",
     "text": [
      "True\n"
     ]
    }
   ],
   "source": [
    "print(\"carbon\" in elements)"
   ]
  },
  {
   "cell_type": "code",
   "execution_count": 13,
   "id": "2dba2e4c",
   "metadata": {},
   "outputs": [
    {
     "name": "stdout",
     "output_type": "stream",
     "text": [
      "{'hydrogen': 1, 'helium': 2, 'carbon': 6, 'lithium': 3}\n"
     ]
    }
   ],
   "source": [
    "print(elements)"
   ]
  },
  {
   "cell_type": "code",
   "execution_count": 14,
   "id": "a65ce925",
   "metadata": {},
   "outputs": [
    {
     "name": "stdout",
     "output_type": "stream",
     "text": [
      "None\n"
     ]
    }
   ],
   "source": [
    "print(elements.get(\"dilithium\"))"
   ]
  },
  {
   "cell_type": "code",
   "execution_count": 15,
   "id": "dbfe5504",
   "metadata": {},
   "outputs": [
    {
     "name": "stdout",
     "output_type": "stream",
     "text": [
      "1\n"
     ]
    }
   ],
   "source": [
    "print(elements.get(\"hydrogen\"))"
   ]
  },
  {
   "cell_type": "markdown",
   "id": "1f4bc15a",
   "metadata": {},
   "source": [
    "### Compound Data Structures - Nested dictionary"
   ]
  },
  {
   "cell_type": "code",
   "execution_count": 16,
   "id": "2ae2a401",
   "metadata": {},
   "outputs": [],
   "source": [
    "elements = {\"hydrogen\": {\"number\": 1,\n",
    "                         \"weight\": 1.00794,\n",
    "                         \"symbol\": \"H\"},\n",
    "              \"helium\": {\"number\": 2,\n",
    "                         \"weight\": 4.002602,\n",
    "                         \"symbol\": \"He\"}}"
   ]
  },
  {
   "cell_type": "code",
   "execution_count": 17,
   "id": "a2733a4d",
   "metadata": {},
   "outputs": [],
   "source": [
    "helium = elements[\"helium\"]"
   ]
  },
  {
   "cell_type": "code",
   "execution_count": 18,
   "id": "f84810a2",
   "metadata": {},
   "outputs": [],
   "source": [
    "hydrogen_weight = elements[\"hydrogen\"][\"weight\"]"
   ]
  },
  {
   "cell_type": "code",
   "execution_count": 19,
   "id": "03a389e2",
   "metadata": {},
   "outputs": [
    {
     "name": "stdout",
     "output_type": "stream",
     "text": [
      "elements =  {'hydrogen': {'number': 1, 'weight': 1.00794, 'symbol': 'H'}, 'helium': {'number': 2, 'weight': 4.002602, 'symbol': 'He'}, 'oxygen': {'number': 8, 'weight': 15.999, 'symbol': 'O'}}\n"
     ]
    }
   ],
   "source": [
    "oxygen = {\"number\":8,\"weight\":15.999,\"symbol\":\"O\"}  # create a new oxygen dictionary \n",
    "elements[\"oxygen\"] = oxygen  # assign 'oxygen' as a key to the elements dictionary\n",
    "print('elements = ', elements)"
   ]
  },
  {
   "cell_type": "markdown",
   "id": "f31678d9",
   "metadata": {},
   "source": [
    "### Conditional Statements - Running code only if a particular condition holds"
   ]
  },
  {
   "cell_type": "markdown",
   "id": "c15d08ce",
   "metadata": {},
   "source": [
    "### If Statement --- Use Comparison Operators in Conditional Statements (== or !=)"
   ]
  },
  {
   "cell_type": "markdown",
   "id": "9bae450e",
   "metadata": {},
   "source": [
    "### The if statement goes with a colon :"
   ]
  },
  {
   "cell_type": "code",
   "execution_count": 23,
   "id": "931a8a37",
   "metadata": {},
   "outputs": [
    {
     "name": "stdout",
     "output_type": "stream",
     "text": [
      "14\n",
      "40\n"
     ]
    }
   ],
   "source": [
    "\n",
    "phone_balance = 4\n",
    "bank_balance = 50\n",
    "\n",
    "if phone_balance < 10:\n",
    "    phone_balance += 10\n",
    "    bank_balance -= 10\n",
    "\n",
    "print(phone_balance)\n",
    "print(bank_balance)"
   ]
  },
  {
   "cell_type": "code",
   "execution_count": 25,
   "id": "fed028f5",
   "metadata": {},
   "outputs": [
    {
     "name": "stdout",
     "output_type": "stream",
     "text": [
      "Number 120 is even.\n"
     ]
    }
   ],
   "source": [
    "number = 120\n",
    "if number % 2 == 0:\n",
    "    print(\"Number \" + str(number) + \" is even.\")\n",
    "else:\n",
    "    print(\"Number \" + str(number) + \" is odd.\")"
   ]
  },
  {
   "cell_type": "code",
   "execution_count": 30,
   "id": "435bb6d2",
   "metadata": {},
   "outputs": [
    {
     "name": "stdout",
     "output_type": "stream",
     "text": [
      "Somebody who is 4 years old will pay $0 to ride the bus.\n"
     ]
    }
   ],
   "source": [
    "age = 4\n",
    "\n",
    "# Here are the age limits for bus fares\n",
    "free_up_to_age = 4\n",
    "child_up_to_age = 18\n",
    "senior_from_age = 65\n",
    "\n",
    "# These lines determine the bus fare prices\n",
    "concession_ticket = 1.25\n",
    "adult_ticket = 2.50\n",
    "\n",
    "# Here is the logic for bus fare prices\n",
    "if age <= free_up_to_age:\n",
    "    ticket_price = 0\n",
    "elif age <= child_up_to_age:\n",
    "    ticket_price = concession_ticket\n",
    "elif age >= senior_from_age:\n",
    "    ticket_price = concession_ticket\n",
    "else:\n",
    "    ticket_price = adult_ticket\n",
    "\n",
    "message = \"Somebody who is {} years old will pay ${} to ride the bus.\".format(age, ticket_price)\n",
    "print(message)"
   ]
  },
  {
   "cell_type": "code",
   "execution_count": 33,
   "id": "ed8353d4",
   "metadata": {},
   "outputs": [
    {
     "name": "stdout",
     "output_type": "stream",
     "text": [
      "stay indoors!\n"
     ]
    }
   ],
   "source": [
    "season = \"winter\"  ### IF, ELIF, ELSE\n",
    "\n",
    "if season == 'spring':\n",
    "    print('plant the garden!')\n",
    "elif season == 'summer':\n",
    "    print('water the garden!')\n",
    "elif season == 'fall':\n",
    "    print('harvest the garden!')\n",
    "elif season == 'winter':\n",
    "    print('stay indoors!')\n",
    "else:\n",
    "    print('unrecognized season')"
   ]
  },
  {
   "cell_type": "markdown",
   "id": "7177cf4f",
   "metadata": {},
   "source": [
    "### Boolean Expressions for Conditions"
   ]
  },
  {
   "cell_type": "code",
   "execution_count": 40,
   "id": "cb59c3da",
   "metadata": {},
   "outputs": [],
   "source": [
    "weight = 60\n",
    "height = 150\n",
    "\n",
    "if 18.5 <= weight / height**2 < 25:\n",
    "    print(\"BMI is considered 'normal'\")"
   ]
  },
  {
   "cell_type": "markdown",
   "id": "9572c824",
   "metadata": {},
   "source": [
    "### For Loops - Definate iteration"
   ]
  },
  {
   "cell_type": "markdown",
   "id": "512ebd8c",
   "metadata": {},
   "source": [
    "Python has two kinds of loops - for loops and while loops. A for loop is used to \"iterate\", or do something repeatedly, over an iterable.\n",
    "\n",
    "An iterable is an object that can return one of its elements at a time. This can include sequence types, such as strings, lists, and tuples, as well as non-sequence types, such as dictionaries and files."
   ]
  },
  {
   "cell_type": "code",
   "execution_count": 42,
   "id": "62d2dd81",
   "metadata": {},
   "outputs": [
    {
     "name": "stdout",
     "output_type": "stream",
     "text": [
      "new york city\n",
      "mountain view\n",
      "chicago\n",
      "los angeles\n"
     ]
    }
   ],
   "source": [
    "cities = ['new york city', 'mountain view', 'chicago', 'los angeles']\n",
    "for city in cities:\n",
    "    print(city)"
   ]
  },
  {
   "cell_type": "markdown",
   "id": "a2de740e",
   "metadata": {},
   "source": [
    "### Using the range() Function with for Loops --- range( starat, stop, step) -- all variable must be integers"
   ]
  },
  {
   "cell_type": "markdown",
   "id": "45d44263",
   "metadata": {},
   "source": [
    "range() is a built-in function used to create an iterable sequence of numbers. You will frequently use range() with a for loop to repeat an action a certain number of times. Any variable can be used to iterate through the numbers, but Python programmers conventionally use i, as in this example:"
   ]
  },
  {
   "cell_type": "code",
   "execution_count": 43,
   "id": "dadbf205",
   "metadata": {},
   "outputs": [
    {
     "name": "stdout",
     "output_type": "stream",
     "text": [
      "Hello!\n",
      "Hello!\n",
      "Hello!\n"
     ]
    }
   ],
   "source": [
    "for i in range(3):\n",
    "    print(\"Hello!\")"
   ]
  },
  {
   "cell_type": "markdown",
   "id": "66682f5c",
   "metadata": {},
   "source": [
    "### Where Loops"
   ]
  },
  {
   "cell_type": "code",
   "execution_count": 47,
   "id": "2e81780a",
   "metadata": {},
   "outputs": [],
   "source": []
  },
  {
   "cell_type": "code",
   "execution_count": null,
   "id": "bd705d93",
   "metadata": {},
   "outputs": [],
   "source": []
  }
 ],
 "metadata": {
  "kernelspec": {
   "display_name": "Python 3 (ipykernel)",
   "language": "python",
   "name": "python3"
  },
  "language_info": {
   "codemirror_mode": {
    "name": "ipython",
    "version": 3
   },
   "file_extension": ".py",
   "mimetype": "text/x-python",
   "name": "python",
   "nbconvert_exporter": "python",
   "pygments_lexer": "ipython3",
   "version": "3.9.13"
  }
 },
 "nbformat": 4,
 "nbformat_minor": 5
}
